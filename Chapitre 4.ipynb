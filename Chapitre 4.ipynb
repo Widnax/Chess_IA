{
 "cells": [
  {
   "cell_type": "markdown",
   "metadata": {},
   "source": [
    "Enfin, dans ce chapitre 6, nous conclurons sur les développements récents et nous spéculons très simplement sur ce qui est à venir."
   ]
  }
 ],
 "metadata": {
  "language_info": {
   "name": "python"
  }
 },
 "nbformat": 4,
 "nbformat_minor": 2
}
