{
 "cells": [
  {
   "cell_type": "markdown",
   "metadata": {},
   "source": [
    "Enfin dans ce chapitre 5, nous mettrons en œuvre notre propre moteur de jeu basé sur un réseau neuronal, similaire à AlphaZero ou Leela Chess Zero. Le jeu d'échecs étant trop complexe pour être entraîné efficacement sur un PC standard, nous nous limiterons à une variante plus simple du jeu d'échecs appelée Hexapawn. Cependant, comme toutes les méthodes existent et que l'approche d'AlphaZero est assez indifférente aux règles particulières d'un jeu, cette mise en œuvre peut facilement être étendue à des problèmes plus complexes, y compris les échecs - à condition que les énormes ressources informatiques nécessaires soient disponibles."
   ]
  }
 ],
 "metadata": {
  "language_info": {
   "name": "python"
  }
 },
 "nbformat": 4,
 "nbformat_minor": 2
}
