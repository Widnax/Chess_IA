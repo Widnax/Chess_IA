{
 "cells": [
  {
   "cell_type": "markdown",
   "metadata": {},
   "source": [
    "# Chapitre 1"
   ]
  },
  {
   "cell_type": "markdown",
   "metadata": {},
   "source": [
    "Ce Notebook est une brève introduction aux échecs informatiques modernes. Les moteurs d'échecs utilisant l'intelligence artificielle basée sur l'apprentissage profond (deep learning) ont eu un impact considérable sur la communauté des joueurs d'échecs. AlphaZero, le monstre d'échecs développé par DeepMind, la filiale de recherche de Google, a soudain semblé capable de jouer de belles parties d'échecs, presque semblables à celles d'un humain. Certaines parties montraient des sacrifices de pièces sans gain tactique immédiat, mais des avantages positionnels à long terme que les moteurs d'échecs courants étaient incapables de trouver. Nous commencerons par examiner les méthodes de recherche utilisées par les moteurs d'échecs. Nous apprenons comment les moteurs d'échecs \"classiques\" utilisent la recherche alpha-bêta, et comment la recherche par arbre de Monte-Carlo offre une alternative pour les échecs et d'autres jeux plus difficiles tels que le Shogi ou le Go. À titre d'exemple, nous mettrons en œuvre la recherche alpha-bêta et la recherche arborescente de Monte-Carlo et nous les testerons avec une position d'échecs simple."
   ]
  },
  {
   "cell_type": "markdown",
   "metadata": {},
   "source": [
    "Les échecs se composent de tactique et de stratégie. Pour la tactique, vous calculez les coups et les réponses et vous regardez si l'une des séquences de coups conduit à un avantage ou à un désavantage forcé. Il s'agit essentiellement d'une recherche parmi toutes les variantes possibles. La stratégie consiste à juger une position sans trop de calculs. Ici nous nous concentrons sur la tactique."
   ]
  },
  {
   "cell_type": "markdown",
   "metadata": {},
   "source": [
    "## Algorithmes de recherche\n",
    "### Algorithme minmax"
   ]
  },
  {
   "cell_type": "markdown",
   "metadata": {},
   "source": [
    "On commence par implémenter l'algorithme minimax. Ce code implémente un joueur d'échecs artificiel basé sur un algorithme de recherche appelé minimax avec élagage alpha-bêta. Après une importation de la bibliothèque d'échecs (chess), on commence par définir une table de valeurs pour évaluer la position des pièces sur l'échiquier. Ici c'est très simplifier : plus la pièce est au centre, meilleur est sa postion et inversement."
   ]
  },
  {
   "cell_type": "code",
   "execution_count": 16,
   "metadata": {},
   "outputs": [],
   "source": [
    "import chess"
   ]
  },
  {
   "cell_type": "code",
   "execution_count": 17,
   "metadata": {},
   "outputs": [],
   "source": [
    "pieceSquareTable = [\n",
    "  [ -50,-40,-30,-30,-30,-30,-40,-50 ],\n",
    "  [ -40,-20,  0,  0,  0,  0,-20,-40 ],\n",
    "  [ -30,  0, 10, 15, 15, 10,  0,-30 ],\n",
    "  [ -30,  5, 15, 20, 20, 15,  5,-30 ],\n",
    "  [ -30,  0, 15, 20, 20, 15,  0,-30 ],\n",
    "  [ -30,  5, 10, 15, 15, 10,  5,-30 ],\n",
    "  [ -40,-20,  0,  5,  5,  0,-20,-40 ],\n",
    "  [ -50,-40,-30,-30,-30,-30,-40,-50 ] ]"
   ]
  },
  {
   "cell_type": "markdown",
   "metadata": {},
   "source": [
    "Ensuite on définit une fonction eval(board) qui évalue la position actuelle de l'échiquier en attribuant des valeurs aux pièces en fonction de leur type et de leur position."
   ]
  },
  {
   "cell_type": "code",
   "execution_count": 18,
   "metadata": {},
   "outputs": [],
   "source": [
    "# Définition d'une fonction pour évaluer la position actuelle de l'échiquier\n",
    "def eval(board):\n",
    "    # Initialisation des scores pour les blancs et les noirs\n",
    "    scoreWhite = 0\n",
    "    scoreBlack = 0\n",
    "    \n",
    "    # Parcours de chaque case de l'échiquier\n",
    "    for i in range(0, 8):\n",
    "        for j in range(0, 8):\n",
    "            # Obtention de la case (i, j) sur l'échiquier\n",
    "            squareIJ = chess.square(i, j)\n",
    "            # Obtention de la pièce sur la case (i, j)\n",
    "            pieceIJ = board.piece_at(squareIJ)\n",
    "            \n",
    "            # Évaluation de la pièce obtenue\n",
    "            if str(pieceIJ) == \"P\":  # Si la pièce est un pion blanc\n",
    "                scoreWhite += (100 + pieceSquareTable[i][j])  # Ajoute la valeur du pion au score des blancs\n",
    "            if str(pieceIJ) == \"N\":  # Si la pièce est un cavalier blanc\n",
    "                scoreWhite += (310 + pieceSquareTable[i][j])  # Ajoute la valeur du cavalier au score des blancs\n",
    "            if str(pieceIJ) == \"B\":  # Si la pièce est un fou blanc\n",
    "                scoreWhite += (320 + pieceSquareTable[i][j])  # Ajoute la valeur du fou au score des blancs\n",
    "            if str(pieceIJ) == \"R\":  # Si la pièce est une tour blanche\n",
    "                scoreWhite += (500 + pieceSquareTable[i][j])  # Ajoute la valeur de la tour au score des blancs\n",
    "            if str(pieceIJ) == \"Q\":  # Si la pièce est une reine blanche\n",
    "                scoreWhite += (900 + pieceSquareTable[i][j])  # Ajoute la valeur de la reine au score des blancs\n",
    "            \n",
    "            if str(pieceIJ) == \"p\":  # Si la pièce est un pion noir\n",
    "                scoreBlack += (100 + pieceSquareTable[i][j])  # Ajoute la valeur du pion au score des noirs\n",
    "            if str(pieceIJ) == \"n\":  # Si la pièce est un cavalier noir\n",
    "                scoreBlack += (310 + pieceSquareTable[i][j])  # Ajoute la valeur du cavalier au score des noirs\n",
    "            if str(pieceIJ) == \"b\":  # Si la pièce est un fou noir\n",
    "                scoreBlack += (320 + pieceSquareTable[i][j])  # Ajoute la valeur du fou au score des noirs\n",
    "            if str(pieceIJ) == \"r\":  # Si la pièce est une tour noire\n",
    "                scoreBlack += (500 + pieceSquareTable[i][j])  # Ajoute la valeur de la tour au score des noirs\n",
    "            if str(pieceIJ) == \"q\":  # Si la pièce est une reine noire\n",
    "                scoreBlack += (900 + pieceSquareTable[i][j])  # Ajoute la valeur de la reine au score des noirs\n",
    "    \n",
    "    # Retourne la différence entre le score des blancs et celui des noirs\n",
    "    return scoreWhite - scoreBlack\n"
   ]
  },
  {
   "cell_type": "markdown",
   "metadata": {},
   "source": [
    "Un jeu de somme nulle est un jeu où la somme des gains et des pertes de tous les joueurs est égale à 0. Cela signifie donc que le gain de l'un constitue obligatoirement une perte pour l'autre. Par exemple si l'on définit le gain d'une partie d'échecs comme 1 si on gagne, 0 si la partie est nulle et -1 si on perd, le jeu d'échecs est un jeu à somme nulle ([Wikipédia 23/04/2024](https://fr.wikipedia.org/wiki/Jeu_%C3%A0_somme_nulle))."
   ]
  },
  {
   "cell_type": "markdown",
   "metadata": {},
   "source": [
    "Comme l'explique la page [wikipédia](https://fr.wikipedia.org/wiki/Algorithme_minimax) (23/04/2024), l'algorithme minimax (aussi appelé algorithme MinMax) est un algorithme qui s'applique à la théorie des jeux pour les jeux à deux joueurs à somme nulle (et à information complète) consistant à minimiser la perte maximum (c'est-à-dire dans le pire des cas). Pour une vaste famille de jeux, le théorème du minimax de von Neumann assure l'existence d'un tel algorithme, même si dans la pratique il n'est souvent guère aisé de le trouver. \n",
    "\n",
    "Il amène l'ordinateur à passer en revue toutes les possibilités pour un nombre limité de coups et à leur assigner une valeur qui prend en compte les bénéfices pour le joueur et pour son adversaire. Le meilleur choix est alors celui qui minimise les pertes du joueur tout en supposant que l'adversaire cherche au contraire à les maximiser (le jeu est à somme nulle).\n",
    "\n",
    "Il existe différents algorithmes basés sur MinMax permettant d'optimiser la recherche du meilleur coup en limitant le nombre de nœuds visités dans l'arbre de jeu, le plus connu est l'élagage alpha-bêta. En pratique, l'arbre est souvent trop vaste pour pouvoir être intégralement exploré (comme pour le jeu d'échecs ou de go). Seule une fraction de l'arbre est alors explorée.\n",
    "Dans le cas d'arbres très vastes, comme pour les échecs, une IA (système expert, évaluation par apprentissage à partir d'exemple, etc.) peut servir à élaguer certaines branches sur la base d'une estimation de leur utilité. Nous verrons cela dans l'autre chapitre."
   ]
  },
  {
   "cell_type": "markdown",
   "metadata": {},
   "source": [
    "Maintenant qu'on a une manière d'évaluer le plateau, on implémente l'algorithme minimax pour évaluer les coups possibles et choisir le meilleur coup à jouer."
   ]
  },
  {
   "cell_type": "code",
   "execution_count": 19,
   "metadata": {},
   "outputs": [],
   "source": [
    "# Initialisation d'un compteur de nœuds\n",
    "NODECOUNT = 0\n",
    "\n",
    "# Définition de la fonction minimax pour évaluer les coups possibles\n",
    "def minimax(board, depth, maximize):\n",
    "    global NODECOUNT  # Utilisation de la variable globale NODECOUNT\n",
    "    \n",
    "    # Si c'est un échec et mat\n",
    "    if(board.is_checkmate()):\n",
    "        # Si c'est au tour des blancs, retourne une valeur très négative\n",
    "        if(board.turn == chess.WHITE):\n",
    "            return -100000\n",
    "        # Sinon, retourne une valeur très positive\n",
    "        else:\n",
    "            return 1000000\n",
    "    \n",
    "    # Si c'est un pat ou si le matériel est insuffisant, retourne 0\n",
    "    if(board.is_stalemate()) or board.is_insufficient_material():\n",
    "        return 0\n",
    "    \n",
    "    # Si la profondeur de recherche est égale à 0, retourne l'évaluation de la position actuelle\n",
    "    if depth == 0:\n",
    "        return eval(board)\n",
    "    \n",
    "    # Obtention des coups légaux possibles pour le joueur actuel\n",
    "    legals = board.legal_moves\n",
    "    \n",
    "    # Si on cherche à maximiser le score\n",
    "    if(maximize):\n",
    "        bestVal = -9999  # Initialisation de la meilleure valeur à une valeur très négative\n",
    "        # Parcours de tous les coups légaux\n",
    "        for move in legals:\n",
    "            board.push(move)  # Joue le coup\n",
    "            NODECOUNT += 1  # Incrémente le compteur de nœuds\n",
    "            # Appel récursif à minimax pour évaluer le coup suivant avec une profondeur réduite\n",
    "            bestVal = max(bestVal, minimax(board, depth - 1, (not maximize)))\n",
    "            board.pop()  # Annule le coup pour revenir à l'état précédent\n",
    "        return bestVal  # Retourne la meilleure valeur trouvée\n",
    "    \n",
    "    # Si on cherche à minimiser le score\n",
    "    else:\n",
    "        bestVal = 9999  # Initialisation de la meilleure valeur à une valeur très positive\n",
    "        # Parcours de tous les coups légaux\n",
    "        for move in legals:\n",
    "            board.push(move)  # Joue le coup\n",
    "            NODECOUNT += 1  # Incrémente le compteur de nœuds\n",
    "            # Appel récursif à minimax pour évaluer le coup suivant avec une profondeur réduite\n",
    "            bestVal = min(bestVal, minimax(board, depth - 1, (not maximize)))\n",
    "            board.pop()  # Annule le coup pour revenir à l'état précédent\n",
    "        return bestVal  # Retourne la meilleure valeur trouvée\n"
   ]
  },
  {
   "cell_type": "markdown",
   "metadata": {},
   "source": [
    "Définition d'une fonction getNextMove(depth, board, maximize) qui prend en compte la profondeur de recherche et renvoie le meilleur coup possible pour un joueur donné.\n"
   ]
  },
  {
   "cell_type": "code",
   "execution_count": 20,
   "metadata": {},
   "outputs": [],
   "source": [
    "# Définition de la fonction pour obtenir le prochain meilleur coup à jouer\n",
    "def getNextMove(depth, board, maximize):\n",
    "    # Obtention des coups légaux possibles pour le joueur actuel\n",
    "    legals = board.legal_moves\n",
    "    # Initialisation du meilleur coup et de sa valeur associée\n",
    "    bestMove = None\n",
    "    bestValue = -9999  # Initialise la meilleure valeur à une valeur très négative\n",
    "    \n",
    "    # Si on cherche à minimiser le score, initialise la meilleure valeur à une valeur très positive\n",
    "    if not maximize:\n",
    "        bestValue = 9999\n",
    "        \n",
    "    # Parcours de tous les coups légaux\n",
    "    for move in legals:\n",
    "        board.push(move)  # Joue le coup\n",
    "        # Évalue le score associé au coup actuel en utilisant l'algorithme minimax\n",
    "        value = minimax(board, depth - 1, (not maximize))\n",
    "        board.pop()  # Annule le coup pour revenir à l'état précédent\n",
    "        \n",
    "        # Met à jour le meilleur coup et sa valeur associée en fonction de la stratégie (maximisation ou minimisation)\n",
    "        if maximize:  # Si on cherche à maximiser le score\n",
    "            if value > bestValue:  # Si le score actuel est meilleur que le meilleur score trouvé jusqu'à présent\n",
    "                bestValue = value  # Met à jour la meilleure valeur\n",
    "                bestMove = move  # Met à jour le meilleur coup\n",
    "        else:  # Si on cherche à minimiser le score\n",
    "            if value < bestValue:  # Si le score actuel est meilleur que le meilleur score trouvé jusqu'à présent\n",
    "                bestValue = value  # Met à jour la meilleure valeur\n",
    "                bestMove = move  # Met à jour le meilleur coup\n",
    "    \n",
    "    # Retourne le meilleur coup trouvé et sa valeur associée\n",
    "    return (bestMove, bestValue)\n"
   ]
  },
  {
   "cell_type": "markdown",
   "metadata": {},
   "source": [
    "Maintenant on peut exécuter des commandes qui simulent un jeu d'échecs avec quelques mouvements (coup du berger) et affichage du meilleur coup calculé par l'algorithme.\n"
   ]
  },
  {
   "cell_type": "code",
   "execution_count": 21,
   "metadata": {},
   "outputs": [
    {
     "name": "stdout",
     "output_type": "stream",
     "text": [
      "r . b q k b . r\n",
      "p p p p . p p p\n",
      ". . n . . n . .\n",
      ". . . . p . . Q\n",
      ". . B . P . . .\n",
      ". . . . . . . .\n",
      "P P P P . P P P\n",
      "R N B . K . N R\n"
     ]
    }
   ],
   "source": [
    "board = chess.Board()\n",
    "board.push_san(\"e4\")\n",
    "board.push_san(\"e5\")\n",
    "board.push_san(\"Qh5\")\n",
    "board.push_san(\"Nc6\")\n",
    "board.push_san(\"Bc4\")\n",
    "board.push_san(\"Nf6\")\n",
    "print(board)"
   ]
  },
  {
   "cell_type": "markdown",
   "metadata": {},
   "source": [
    "On exécute notre code pour voir le résultat."
   ]
  },
  {
   "cell_type": "code",
   "execution_count": 22,
   "metadata": {},
   "outputs": [
    {
     "name": "stdout",
     "output_type": "stream",
     "text": [
      "(Move.from_uci('h5f7'), 1000000)\n",
      "1337211\n"
     ]
    }
   ],
   "source": [
    "print(getNextMove(4, board, True))\n",
    "print(NODECOUNT)"
   ]
  },
  {
   "cell_type": "markdown",
   "metadata": {},
   "source": [
    "On obtient bien le meilleur coup : dame en f7 délivrant un échec et mat en 1 coup à l'aide du coup du berger. Cependant il y a 1337211 positions évaluées en environ 3min pour trouver ce coup. C'est beaucoup trop pour un jeu d'échecs complet. On va donc implémenter un algorithme plus rapide pour évaluer les coups possibles."
   ]
  },
  {
   "cell_type": "markdown",
   "metadata": {},
   "source": [
    "### Algorithme Alpha-Bêta"
   ]
  },
  {
   "cell_type": "markdown",
   "metadata": {},
   "source": [
    "On peux cependant optimiser cette algorithme sans modifier le résultat en utilisant l'élagage alpha-bêta. L’élagage alpha-bêta (abrégé élagage αβ) est une technique permettant de réduire le nombre de nœuds évalués par l'algorithme minimax. Lors de l'exploration, il n'est pas nécessaire d'examiner les sous-arbres qui conduisent à des configurations dont la valeur ne contribuera pas au calcul du gain à la racine de l'arbre. Dit autrement, l'élagage αβ n'évalue pas des nœuds dont on peut penser, si la fonction d'évaluation est à peu près correcte, que leur qualité sera inférieure à celle d'un nœud déjà évalué. On peut facilement le voir avec l'image suivante :\n",
    "![](https://upload.wikimedia.org/wikipedia/commons/thumb/6/64/Poda_alfa-beta.svg/2560px-Poda_alfa-beta.svg.png)"
   ]
  },
  {
   "cell_type": "markdown",
   "metadata": {},
   "source": [
    "On réutilise notre pieceSquareTable et notre fonction eval. On code maintenant Alpha-Bêta :"
   ]
  },
  {
   "cell_type": "code",
   "execution_count": 26,
   "metadata": {},
   "outputs": [],
   "source": [
    "# Définition d'un compteur de nœuds\n",
    "NODECOUNT = 0\n",
    "\n",
    "# Définition de la fonction alpha-beta pour évaluer les coups possibles\n",
    "def alphaBeta(board, depth, alpha, beta, maximize):\n",
    "    global NODECOUNT  # Utilisation de la variable globale NODECOUNT\n",
    "    \n",
    "    # Si c'est un échec et mat\n",
    "    if(board.is_checkmate()):\n",
    "        # Si c'est au tour des blancs, retourne une valeur très négative\n",
    "        if(board.turn == chess.WHITE):\n",
    "            return -100000\n",
    "        # Sinon, retourne une valeur très positive\n",
    "        else:\n",
    "            return 1000000\n",
    "    \n",
    "    # Si la profondeur de recherche est égale à 0, retourne l'évaluation de la position actuelle\n",
    "    if depth == 0:\n",
    "        return eval(board)\n",
    "    \n",
    "    # Obtention des coups légaux possibles pour le joueur actuel\n",
    "    legals = board.legal_moves\n",
    "    \n",
    "    # Si on cherche à maximiser le score\n",
    "    if(maximize):\n",
    "        bestVal = -9999  # Initialisation de la meilleure valeur à une valeur très négative\n",
    "        # Parcours de tous les coups légaux\n",
    "        for move in legals:\n",
    "            board.push(move)  # Joue le coup\n",
    "            NODECOUNT += 1  # Incrémente le compteur de nœuds\n",
    "            # Appel récursif à alphaBeta pour évaluer le coup suivant avec une profondeur réduite\n",
    "            bestVal = max(bestVal, alphaBeta(board, depth - 1, alpha, beta, (not maximize)))\n",
    "            board.pop()  # Annule le coup pour revenir à l'état précédent\n",
    "            alpha = max(alpha, bestVal)  # Met à jour la valeur alpha\n",
    "            if alpha >= beta:  # Si alpha est supérieur ou égal à beta\n",
    "                return bestVal  # Effectue une coupure alpha et retourne la meilleure valeur trouvée\n",
    "        return bestVal  # Retourne la meilleure valeur trouvée\n",
    "    \n",
    "    # Si on cherche à minimiser le score\n",
    "    else:\n",
    "        bestVal = 9999  # Initialisation de la meilleure valeur à une valeur très positive\n",
    "        # Parcours de tous les coups légaux\n",
    "        for move in legals:\n",
    "            board.push(move)  # Joue le coup\n",
    "            NODECOUNT += 1  # Incrémente le compteur de nœuds\n",
    "            # Appel récursif à alphaBeta pour évaluer le coup suivant avec une profondeur réduite\n",
    "            bestVal = min(bestVal, alphaBeta(board, depth - 1, alpha, beta, (not maximize)))\n",
    "            board.pop()  # Annule le coup pour revenir à l'état précédent\n",
    "            beta = min(beta, bestVal)  # Met à jour la valeur beta\n",
    "            if beta <= alpha:  # Si beta est inférieur ou égal à alpha\n",
    "                return bestVal  # Effectue une coupure beta et retourne la meilleure valeur trouvée\n",
    "        return bestVal  # Retourne la meilleure valeur trouvée"
   ]
  },
  {
   "cell_type": "markdown",
   "metadata": {},
   "source": [
    "On implémente maintenant notre nouvelle fonction getNextMoveAlphaBeta :"
   ]
  },
  {
   "cell_type": "code",
   "execution_count": 24,
   "metadata": {},
   "outputs": [],
   "source": [
    "# Définition de la fonction pour obtenir le prochain meilleur coup à jouer\n",
    "def getNextMoveAlphaBeta(depth, board, maximize):\n",
    "    # Obtention des coups légaux possibles pour le joueur actuel\n",
    "    legals = board.legal_moves\n",
    "    \n",
    "    # Initialisation du meilleur coup et de sa valeur associée\n",
    "    bestMove = None\n",
    "    bestValue = -9999  # Initialise la meilleure valeur à une valeur très négative\n",
    "    \n",
    "    # Si on cherche à minimiser le score, initialise la meilleure valeur à une valeur très positive\n",
    "    if not maximize:\n",
    "        bestValue = 9999\n",
    "    \n",
    "    # Parcours de tous les coups légaux\n",
    "    for move in legals:\n",
    "        board.push(move)  # Joue le coup\n",
    "        # Évalue le score associé au coup actuel en utilisant l'algorithme alpha-beta\n",
    "        value = alphaBeta(board, depth - 1, -10000, 10000, (not maximize))\n",
    "        board.pop()  # Annule le coup pour revenir à l'état précédent\n",
    "        \n",
    "        # Met à jour le meilleur coup et sa valeur associée en fonction de la stratégie (maximisation ou minimisation)\n",
    "        if maximize:  # Si on cherche à maximiser le score\n",
    "            if value > bestValue:  # Si le score actuel est meilleur que le meilleur score trouvé jusqu'à présent\n",
    "                bestValue = value  # Met à jour la meilleure valeur\n",
    "                bestMove = move  # Met à jour le meilleur coup\n",
    "        else:  # Si on cherche à minimiser le score\n",
    "            if value < bestValue:  # Si le score actuel est meilleur que le meilleur score trouvé jusqu'à présent\n",
    "                bestValue = value  # Met à jour la meilleure valeur\n",
    "                bestMove = move  # Met à jour le meilleur coup\n",
    "    \n",
    "    # Retourne le meilleur coup trouvé et sa valeur associée\n",
    "    return (bestMove, bestValue)"
   ]
  },
  {
   "cell_type": "markdown",
   "metadata": {},
   "source": [
    "On peut maintenant faire un test avec la position précédente :"
   ]
  },
  {
   "cell_type": "code",
   "execution_count": 27,
   "metadata": {},
   "outputs": [
    {
     "name": "stdout",
     "output_type": "stream",
     "text": [
      "(Move.from_uci('h5f7'), 1000000)\n",
      "119034\n"
     ]
    }
   ],
   "source": [
    "print(getNextMoveAlphaBeta(4, board, True))\n",
    "print(NODECOUNT)"
   ]
  },
  {
   "cell_type": "markdown",
   "metadata": {},
   "source": [
    "On obtient bien le même résultat, l'échec et mat avec Dame en f7, cepandant on a évalué 119034 positions en environ 15 secondes au lieu de 1337211. C'est déjà beaucoup mieux mais on peut faire encore mieux avec un autre algorithme de recherche."
   ]
  },
  {
   "cell_type": "markdown",
   "metadata": {},
   "source": [
    "\n",
    "Il est difficile de déterminer un niveau ELO précis pour l'algorithme minimax aux échecs car cela dépend de plusieurs facteurs : \n",
    "- Profondeur de recherche\n",
    "- Fonction d'évaluation\n",
    "- Optimisations\n",
    "\n"
   ]
  },
  {
   "cell_type": "markdown",
   "metadata": {},
   "source": [
    "En résumé, la force de l'algorithme minimax aux échecs varie considérablement en fonction de sa mise en œuvre et des optimisations employées, se situant généralement entre 1500 et 2200 ELO pour les versions basiques et pouvant dépasser les 2200 ELO pour les implémentations plus avancées."
   ]
  }
 ],
 "metadata": {
  "kernelspec": {
   "display_name": "Python 3",
   "language": "python",
   "name": "python3"
  },
  "language_info": {
   "codemirror_mode": {
    "name": "ipython",
    "version": 3
   },
   "file_extension": ".py",
   "mimetype": "text/x-python",
   "name": "python",
   "nbconvert_exporter": "python",
   "pygments_lexer": "ipython3",
   "version": "3.11.3"
  }
 },
 "nbformat": 4,
 "nbformat_minor": 2
}
