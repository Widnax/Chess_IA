{
 "cells": [
  {
   "cell_type": "markdown",
   "metadata": {},
   "source": [
    "C'est dans ce chapitre 2 que tout se joue. Nous examinons en détail le fonctionnement technique d'AlphaZero et de Leela Chess Zero, ainsi que leur évolution à partir d'AlphaGo. Nous examinons également la dernière révolution dans le domaine des échecs sur ordinateur, à savoir la combinaison des chercheurs alpha-bêta classiques des échecs et du shogi avec des réseaux neuronaux plus simples. Ces derniers sont à la pointe de la technologie et sont capables de battre Leela Chess Zero. Et ils peuvent même fonctionner sur un ordinateur domestique standard !"
   ]
  }
 ],
 "metadata": {
  "language_info": {
   "name": "python"
  }
 },
 "nbformat": 4,
 "nbformat_minor": 2
}
